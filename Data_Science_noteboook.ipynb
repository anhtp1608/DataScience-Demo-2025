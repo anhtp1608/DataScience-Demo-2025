{
  "nbformat": 4,
  "nbformat_minor": 0,
  "metadata": {
    "colab": {
      "provenance": [],
      "toc_visible": true,
      "authorship_tag": "ABX9TyNPbsYI4fzVbIEdKKPp1YN/",
      "include_colab_link": true
    },
    "kernelspec": {
      "name": "python3",
      "display_name": "Python 3"
    },
    "language_info": {
      "name": "python"
    }
  },
  "cells": [
    {
      "cell_type": "markdown",
      "metadata": {
        "id": "view-in-github",
        "colab_type": "text"
      },
      "source": [
        "<a href=\"https://colab.research.google.com/github/anhtp1608/DataScience-Demo-2025/blob/main/Data_Science_noteboook.ipynb\" target=\"_parent\"><img src=\"https://colab.research.google.com/assets/colab-badge.svg\" alt=\"Open In Colab\"/></a>"
      ]
    },
    {
      "cell_type": "markdown",
      "source": [
        "#Ingest"
      ],
      "metadata": {
        "id": "rOTLB5up75-l"
      }
    },
    {
      "cell_type": "code",
      "execution_count": null,
      "metadata": {
        "id": "yZmqIXum7vMn"
      },
      "outputs": [],
      "source": []
    },
    {
      "cell_type": "markdown",
      "source": [
        "# EDA"
      ],
      "metadata": {
        "id": "xKsivaFZ77ik"
      }
    },
    {
      "cell_type": "code",
      "source": [],
      "metadata": {
        "id": "a3fyrzt88JHL"
      },
      "execution_count": null,
      "outputs": []
    },
    {
      "cell_type": "markdown",
      "source": [
        "# MODELING"
      ],
      "metadata": {
        "id": "x5tcXQxO8Kd4"
      }
    },
    {
      "cell_type": "code",
      "source": [],
      "metadata": {
        "id": "Stiup7BD8M8O"
      },
      "execution_count": null,
      "outputs": []
    },
    {
      "cell_type": "markdown",
      "source": [
        "# Conlusion"
      ],
      "metadata": {
        "id": "RxNh4DIA8NlF"
      }
    },
    {
      "cell_type": "code",
      "source": [],
      "metadata": {
        "id": "1yei9DxJ8Qte"
      },
      "execution_count": null,
      "outputs": []
    }
  ]
}